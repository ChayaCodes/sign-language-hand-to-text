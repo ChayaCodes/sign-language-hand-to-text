{
  "nbformat": 4,
  "nbformat_minor": 0,
  "metadata": {
    "colab": {
      "provenance": []
    },
    "kernelspec": {
      "name": "python3",
      "display_name": "Python 3"
    },
    "language_info": {
      "name": "python"
    }
  },
  "cells": [
    {
      "cell_type": "markdown",
      "source": [
        "# Hand Gesture Recognition for Typing in Israeli Sign Language\n",
        "\n",
        "This project aims to develop a system that enables typing using Israeli Sign Language. It involves training a machine learning model to detect and recognize hand gestures corresponding to letters and symbols in the Israeli Sign Language alphabet. The system will translate these gestures into text."
      ],
      "metadata": {
        "id": "MhPnjc8AO3BH"
      }
    },
    {
      "cell_type": "markdown",
      "source": [
        "The first step involves training a hand detection model. This model will be used to identify and isolate the hand region within an image or video frame. This is a crucial preprocessing step for accurate sign language recognition."
      ],
      "metadata": {
        "id": "f271dGNjO3Dk"
      }
    },
    {
      "cell_type": "markdown",
      "source": [
        " 1 import require packages"
      ],
      "metadata": {
        "id": "PMCqbH--PZcE"
      }
    },
    {
      "cell_type": "code",
      "source": [
        "!pip install treelib==1.6.1"
      ],
      "metadata": {
        "colab": {
          "base_uri": "https://localhost:8080/"
        },
        "id": "lo2hG314KaPf",
        "outputId": "7fa0061a-e0e6-45c2-98b7-9c6f23d4a480"
      },
      "execution_count": 9,
      "outputs": [
        {
          "output_type": "stream",
          "name": "stdout",
          "text": [
            "Requirement already satisfied: treelib==1.6.1 in /usr/local/lib/python3.11/dist-packages (1.6.1)\n",
            "Requirement already satisfied: future in /usr/local/lib/python3.11/dist-packages (from treelib==1.6.1) (1.0.0)\n"
          ]
        }
      ]
    },
    {
      "cell_type": "code",
      "source": [
        "import os\n",
        "import requests\n",
        "import zipfile\n",
        "from treelib import Node, Tree\n"
      ],
      "metadata": {
        "id": "C8WcyZBNPlE2"
      },
      "execution_count": 10,
      "outputs": []
    },
    {
      "cell_type": "markdown",
      "source": [
        "2 download sample images"
      ],
      "metadata": {
        "id": "Efxrd46aPwxU"
      }
    },
    {
      "cell_type": "code",
      "source": [
        "def download_file(url, save_name):\n",
        "  file = requests.get(url)\n",
        "  open(save_name, 'wb').write(file.content)"
      ],
      "metadata": {
        "id": "PWq6zT7ZP3Ai"
      },
      "execution_count": 11,
      "outputs": []
    },
    {
      "cell_type": "code",
      "source": [
        "def unzip(zip_file, extract_location):\n",
        "  try:\n",
        "    with zipfile.ZipFile(zip_file) as z:\n",
        "      z.extractall(extract_location)\n",
        "      print(\"Extracted all to:\", extract_location)  # Print the extract location\n",
        "  except:\n",
        "    print(\"Invalid file\")"
      ],
      "metadata": {
        "id": "F843iaH9QfYq"
      },
      "execution_count": 12,
      "outputs": []
    },
    {
      "cell_type": "code",
      "source": [
        "def rename_files(folder_dir):\n",
        "  for root, _, files in os.walk(folder_dir):\n",
        "    for file in files:\n",
        "      if file.endswith(\".png\"):\n",
        "        old_path = os.path.join(root, file)\n",
        "        new_name = file.replace(\" \", \"_\")\n",
        "        new_path = os.path.join(root, new_name)\n",
        "        os.rename(old_path, new_path)"
      ],
      "metadata": {
        "id": "2APOSS6raMLt"
      },
      "execution_count": 13,
      "outputs": []
    },
    {
      "cell_type": "code",
      "source": [
        "def build_tree(startpath, tree):\n",
        "    for root, dirs, files in os.walk(startpath):\n",
        "        for file in files:\n",
        "            filepath = os.path.join(root, file)\n",
        "            tree.create_node(file, filepath, parent=root)\n",
        "        for dir in dirs:\n",
        "            dirpath = os.path.join(root, dir)\n",
        "            tree.create_node(dir, dirpath, parent=root, is_dir=True)\n",
        "\n",
        "def print_tree(tree):\n",
        "    tree.show()"
      ],
      "metadata": {
        "id": "8tNMIMw0KPzd"
      },
      "execution_count": 14,
      "outputs": []
    },
    {
      "cell_type": "code",
      "source": [
        "def print_folders_tree(folder_path):\n",
        "  tree = Tree()\n",
        "  tree.create_node(\".\", \".\", data=os.path.abspath(\".\"))\n",
        "  build_tree(folder_path, tree)\n",
        "  print_tree(tree)"
      ],
      "metadata": {
        "id": "skZsV5iLLHYz"
      },
      "execution_count": 15,
      "outputs": []
    },
    {
      "cell_type": "code",
      "source": [
        "\n",
        "download_file(\"http://vision.soic.indiana.edu/egohands_files/egohands_data.zip\",\n",
        "              \"./egohands_data.zip\")\n",
        "\n",
        "extract_location = \"../egohands_data\"\n",
        "unzip(\"./egohands_data.zip\", extract_location)\n"
      ],
      "metadata": {
        "id": "j2gEck6VQ-mZ"
      },
      "execution_count": null,
      "outputs": []
    },
    {
      "cell_type": "code",
      "source": [
        "full_extract_path = os.path.abspath(extract_location)\n",
        "print(\"Full path of extracted folder:\", full_extract_path)\n",
        "\n",
        "print_folders_tree(full_extract_path)"
      ],
      "metadata": {
        "id": "xWGy8Dm9Luwx"
      },
      "execution_count": null,
      "outputs": []
    }
  ]
}