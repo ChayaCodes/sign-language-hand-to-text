{
  "nbformat": 4,
  "nbformat_minor": 0,
  "metadata": {
    "colab": {
      "provenance": []
    },
    "kernelspec": {
      "name": "python3",
      "display_name": "Python 3"
    },
    "language_info": {
      "name": "python"
    }
  },
  "cells": [
    {
      "cell_type": "markdown",
      "source": [
        "# Hand Gesture Recognition for Typing in Israeli Sign Language\n",
        "\n",
        "This project aims to develop a system that enables typing using Israeli Sign Language. It involves training a machine learning model to detect and recognize hand gestures corresponding to letters and symbols in the Israeli Sign Language alphabet. The system will translate these gestures into text."
      ],
      "metadata": {
        "id": "MhPnjc8AO3BH"
      }
    },
    {
      "cell_type": "markdown",
      "source": [
        "The first step involves training a hand detection model. This model will be used to identify and isolate the hand region within an image or video frame. This is a crucial preprocessing step for accurate sign language recognition."
      ],
      "metadata": {
        "id": "f271dGNjO3Dk"
      }
    },
    {
      "cell_type": "markdown",
      "source": [
        " 1 import require packages"
      ],
      "metadata": {
        "id": "PMCqbH--PZcE"
      }
    },
    {
      "cell_type": "code",
      "source": [
        "import os\n",
        "import requests\n",
        "import zipfile\n"
      ],
      "metadata": {
        "id": "C8WcyZBNPlE2"
      },
      "execution_count": null,
      "outputs": []
    },
    {
      "cell_type": "markdown",
      "source": [
        "2 download sample images"
      ],
      "metadata": {
        "id": "Efxrd46aPwxU"
      }
    },
    {
      "cell_type": "code",
      "source": [
        "def download_file(url, save_name):\n",
        "  file = requests.get(url)\n",
        "  open(save_name, 'wb').write(file.content)"
      ],
      "metadata": {
        "id": "PWq6zT7ZP3Ai"
      },
      "execution_count": null,
      "outputs": []
    },
    {
      "cell_type": "code",
      "source": [
        "def unzip(zip_file, extract_location):\n",
        "  try:\n",
        "    with zipfile.ZipFile(zip_file) as z:\n",
        "      z.extractall(extract_location)\n",
        "      print(\"Extracted all to:\", extract_location)  # Print the extract location\n",
        "  except:\n",
        "    print(\"Invalid file\")"
      ],
      "metadata": {
        "id": "F843iaH9QfYq"
      },
      "execution_count": null,
      "outputs": []
    },
    {
      "cell_type": "code",
      "source": [
        "def rename_files(folder_dir):\n",
        "  for root, _, files in os.walk(folder_dir):\n",
        "    for file in files:\n",
        "      if file.endswith(\".png\"):\n",
        "        old_path = os.path.join(root, file)\n",
        "        new_name = file.replace(\" \", \"_\")\n",
        "        new_path = os.path.join(root, new_name)\n",
        "        os.rename(old_path, new_path)"
      ],
      "metadata": {
        "id": "2APOSS6raMLt"
      },
      "execution_count": null,
      "outputs": []
    },
    {
      "cell_type": "code",
      "source": [
        "def split_dataset(dataset_dir, train_ration=0.8):\n",
        "  images = [f for f in os.listdir(dataset_dir) if f.endswith(\".png\")]\n",
        "  train_images, test_images = train_test_split(images, train_size=train_ration, random_state=42)"
      ],
      "metadata": {
        "id": "AJTgVW1NbILa"
      },
      "execution_count": null,
      "outputs": []
    },
    {
      "cell_type": "code",
      "source": [
        "\n",
        "download_file(\"http://vision.soic.indiana.edu/egohands_files/egohands_data.zip\",\n",
        "              \"./egohands_data.zip\")\n",
        "\n",
        "extract_location = \"../egohands_data\"\n",
        "unzip(\"./egohands_data.zip\", extract_location)\n",
        "\n",
        "full_extract_path = os.path.abspath(extract_location)\n",
        "print(\"Full path of extracted folder:\", full_extract_path)"
      ],
      "metadata": {
        "colab": {
          "base_uri": "https://localhost:8080/"
        },
        "id": "j2gEck6VQ-mZ",
        "outputId": "45684a59-80ef-4a92-f9eb-bc3479ceadb7"
      },
      "execution_count": null,
      "outputs": [
        {
          "output_type": "stream",
          "name": "stdout",
          "text": [
            "Extracted all to: ../egohands_data\n",
            "Full path of extracted folder: /egohands_data\n"
          ]
        }
      ]
    }
  ]
}